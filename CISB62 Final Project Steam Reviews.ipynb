{
 "cells": [
  {
   "cell_type": "markdown",
   "id": "44a9a2f2-cc3e-4e6c-b735-68d9e9451988",
   "metadata": {},
   "source": [
    "## Introduction"
   ]
  },
  {
   "cell_type": "markdown",
   "id": "7dc1c114-8cfa-49b0-a219-4162943ccf9c",
   "metadata": {},
   "source": [
    "The Steam reviews dataset from Kaggle consists of the game, its review, and review_score. Users can submit their review as either 1 for Recommend, or -1 for not Recommend. I will use RNN with LSTM to predict if the given review text will classify into either Recommend or Not Recommend."
   ]
  },
  {
   "cell_type": "markdown",
   "id": "74b4b96b-fe64-4e41-a0fe-0bf90b3bd9c2",
   "metadata": {},
   "source": [
    "Dataset: https://www.kaggle.com/datasets/andrewmvd/steam-reviews/code"
   ]
  },
  {
   "cell_type": "code",
   "execution_count": null,
   "id": "4309fe43",
   "metadata": {},
   "outputs": [],
   "source": [
    "# Randomly select 5% of the dataset records."
   ]
  },
  {
   "cell_type": "code",
   "execution_count": 1,
   "id": "2bb9d52b",
   "metadata": {},
   "outputs": [],
   "source": [
    "import pandas as pd\n",
    "import numpy as np\n",
    "\n",
    "# Assuming the CSV file is in the same directory\n",
    "file_path = \"dataset.csv\"\n",
    "\n",
    "# Read the CSV file\n",
    "df = pd.read_csv(file_path)\n",
    "\n",
    "# Specify the fraction of rows you want to keep (e.g., 0.05 for keeping 5%)\n",
    "fraction_to_keep = 0.05\n",
    "\n",
    "# Generate a boolean mask of rows to keep randomly\n",
    "mask = np.random.rand(len(df)) < fraction_to_keep\n",
    "\n",
    "# Keep only the rows that satisfy the mask\n",
    "df_filtered = df[mask]\n",
    "\n",
    "# Now, 'df_filtered' contains the DataFrame with a random subset of rows\n",
    "# You can save this DataFrame to a new CSV file, \n",
    "# and work with the new file\n",
    "df_filtered.to_csv(\"filtered_dataset.csv\", index=False)"
   ]
  },
  {
   "cell_type": "code",
   "execution_count": 2,
   "id": "b64f2b3f",
   "metadata": {},
   "outputs": [
    {
     "name": "stdout",
     "output_type": "stream",
     "text": [
      "   app_id        app_name                                        review_text  \\\n",
      "0      10  Counter-Strike          Still better than Call of Duty: Ghosts...   \n",
      "1      10  Counter-Strike   After 14 years of existence, this legendary g...   \n",
      "2      10  Counter-Strike    Pros  - No crates which you can waste your m...   \n",
      "3      10  Counter-Strike  Compared to CS:GO, this is pure gold. Joined a...   \n",
      "4      10  Counter-Strike  First starting off as a cute, little mod based...   \n",
      "\n",
      "   review_score  review_votes  \n",
      "0             1             1  \n",
      "1             1             0  \n",
      "2             1             1  \n",
      "3             1             1  \n",
      "4             1             1  \n"
     ]
    }
   ],
   "source": [
    "### Load the new dataset:\n",
    "\n",
    "file_path = \"filtered_dataset.csv\"\n",
    "\n",
    "# Read the CSV file into a pandas DataFrame\n",
    "df = pd.read_csv(file_path)\n",
    "\n",
    "# Now, 'df' contains your data, and you can perform various operations on it\n",
    "# For example, you can display the first few rows of the DataFrame\n",
    "print(df.head())"
   ]
  },
  {
   "cell_type": "code",
   "execution_count": 3,
   "id": "ee1df5c9",
   "metadata": {},
   "outputs": [
    {
     "data": {
      "text/plain": [
       "(320772, 5)"
      ]
     },
     "execution_count": 3,
     "metadata": {},
     "output_type": "execute_result"
    }
   ],
   "source": [
    "df.shape"
   ]
  },
  {
   "cell_type": "code",
   "execution_count": 6,
   "id": "e32bdb09-d886-4e74-8411-04819a02dd1c",
   "metadata": {},
   "outputs": [],
   "source": [
    "import pandas as pd\n",
    "from matplotlib import pyplot as plt\n",
    "import numpy as np\n",
    "import seaborn as sns\n",
    "import datetime\n",
    "import re\n",
    "import keras\n",
    "from keras.preprocessing.text import Tokenizer\n",
    "from sklearn.model_selection import train_test_split\n",
    "import tensorflow as tf\n",
    "from tensorflow.keras.callbacks import ModelCheckpoint\n",
    "from tensorflow.keras.preprocessing import sequence\n",
    "from tensorflow.keras.preprocessing.sequence import pad_sequences\n",
    "from tensorflow.keras.layers import Dense, LSTM, Embedding\n",
    "from tensorflow.keras.models import Sequential\n",
    "from nltk.corpus import stopwords\n",
    "from string import punctuation\n",
    "# pd.set_option('display.max_colwidth', None)"
   ]
  },
  {
   "cell_type": "code",
   "execution_count": 9,
   "id": "baf87e7b-968b-411e-a322-71c293fd31a9",
   "metadata": {},
   "outputs": [],
   "source": [
    "import warnings\n",
    "warnings.filterwarnings(\"ignore\")"
   ]
  },
  {
   "cell_type": "code",
   "execution_count": 13,
   "id": "6286c020-e1b4-4365-854e-95c75e5d3203",
   "metadata": {},
   "outputs": [
    {
     "name": "stdout",
     "output_type": "stream",
     "text": [
      "<class 'pandas.core.frame.DataFrame'>\n",
      "RangeIndex: 320772 entries, 0 to 320771\n",
      "Data columns (total 5 columns):\n",
      " #   Column        Non-Null Count   Dtype \n",
      "---  ------        --------------   ----- \n",
      " 0   app_id        320772 non-null  int64 \n",
      " 1   app_name      311746 non-null  object\n",
      " 2   review_text   320415 non-null  object\n",
      " 3   review_score  320772 non-null  int64 \n",
      " 4   review_votes  320772 non-null  int64 \n",
      "dtypes: int64(3), object(2)\n",
      "memory usage: 12.2+ MB\n"
     ]
    }
   ],
   "source": [
    "df.info(verbose=True)"
   ]
  },
  {
   "cell_type": "code",
   "execution_count": 11,
   "id": "c6290a76-f86c-4aac-bfd2-5c1906402ae4",
   "metadata": {},
   "outputs": [
    {
     "data": {
      "text/html": [
       "<div>\n",
       "<style scoped>\n",
       "    .dataframe tbody tr th:only-of-type {\n",
       "        vertical-align: middle;\n",
       "    }\n",
       "\n",
       "    .dataframe tbody tr th {\n",
       "        vertical-align: top;\n",
       "    }\n",
       "\n",
       "    .dataframe thead th {\n",
       "        text-align: right;\n",
       "    }\n",
       "</style>\n",
       "<table border=\"1\" class=\"dataframe\">\n",
       "  <thead>\n",
       "    <tr style=\"text-align: right;\">\n",
       "      <th></th>\n",
       "      <th>app_id</th>\n",
       "      <th>app_name</th>\n",
       "      <th>review_text</th>\n",
       "      <th>review_score</th>\n",
       "      <th>review_votes</th>\n",
       "    </tr>\n",
       "  </thead>\n",
       "  <tbody>\n",
       "    <tr>\n",
       "      <th>312760</th>\n",
       "      <td>7520</td>\n",
       "      <td>Two Worlds II</td>\n",
       "      <td>The good - graphics - the magic system  The ba...</td>\n",
       "      <td>-1</td>\n",
       "      <td>0</td>\n",
       "    </tr>\n",
       "    <tr>\n",
       "      <th>239787</th>\n",
       "      <td>367500</td>\n",
       "      <td>Dragon's Dogma: Dark Arisen</td>\n",
       "      <td>Only need 30 min to make sure it was ported co...</td>\n",
       "      <td>1</td>\n",
       "      <td>0</td>\n",
       "    </tr>\n",
       "    <tr>\n",
       "      <th>82713</th>\n",
       "      <td>225600</td>\n",
       "      <td>Blade Symphony</td>\n",
       "      <td>The community is mean. They make fun of me :(</td>\n",
       "      <td>1</td>\n",
       "      <td>0</td>\n",
       "    </tr>\n",
       "    <tr>\n",
       "      <th>271594</th>\n",
       "      <td>422970</td>\n",
       "      <td>Devil Daggers</td>\n",
       "      <td>It's a shame when developers don't trust their...</td>\n",
       "      <td>-1</td>\n",
       "      <td>1</td>\n",
       "    </tr>\n",
       "    <tr>\n",
       "      <th>27287</th>\n",
       "      <td>203160</td>\n",
       "      <td>Tomb Raider</td>\n",
       "      <td>The Tomb Raider reboot is an amazing represent...</td>\n",
       "      <td>1</td>\n",
       "      <td>0</td>\n",
       "    </tr>\n",
       "    <tr>\n",
       "      <th>190088</th>\n",
       "      <td>301520</td>\n",
       "      <td>Robocraft</td>\n",
       "      <td>Early Access Review</td>\n",
       "      <td>1</td>\n",
       "      <td>0</td>\n",
       "    </tr>\n",
       "    <tr>\n",
       "      <th>42010</th>\n",
       "      <td>21090</td>\n",
       "      <td>F.E.A.R.</td>\n",
       "      <td>Awesome game, not the scariest but sometimes m...</td>\n",
       "      <td>1</td>\n",
       "      <td>0</td>\n",
       "    </tr>\n",
       "    <tr>\n",
       "      <th>166549</th>\n",
       "      <td>273350</td>\n",
       "      <td>Evolve Stage 2</td>\n",
       "      <td>the game is loads of fun and i am constantly t...</td>\n",
       "      <td>1</td>\n",
       "      <td>0</td>\n",
       "    </tr>\n",
       "    <tr>\n",
       "      <th>97318</th>\n",
       "      <td>233450</td>\n",
       "      <td>Prison Architect</td>\n",
       "      <td>gr8 story tbh</td>\n",
       "      <td>1</td>\n",
       "      <td>0</td>\n",
       "    </tr>\n",
       "    <tr>\n",
       "      <th>276478</th>\n",
       "      <td>433850</td>\n",
       "      <td>Z1 Battle Royale</td>\n",
       "      <td>Early Access Review</td>\n",
       "      <td>1</td>\n",
       "      <td>0</td>\n",
       "    </tr>\n",
       "  </tbody>\n",
       "</table>\n",
       "</div>"
      ],
      "text/plain": [
       "        app_id                     app_name  \\\n",
       "312760    7520                Two Worlds II   \n",
       "239787  367500  Dragon's Dogma: Dark Arisen   \n",
       "82713   225600               Blade Symphony   \n",
       "271594  422970                Devil Daggers   \n",
       "27287   203160                  Tomb Raider   \n",
       "190088  301520                    Robocraft   \n",
       "42010    21090                     F.E.A.R.   \n",
       "166549  273350               Evolve Stage 2   \n",
       "97318   233450             Prison Architect   \n",
       "276478  433850             Z1 Battle Royale   \n",
       "\n",
       "                                              review_text  review_score  \\\n",
       "312760  The good - graphics - the magic system  The ba...            -1   \n",
       "239787  Only need 30 min to make sure it was ported co...             1   \n",
       "82713       The community is mean. They make fun of me :(             1   \n",
       "271594  It's a shame when developers don't trust their...            -1   \n",
       "27287   The Tomb Raider reboot is an amazing represent...             1   \n",
       "190088                                Early Access Review             1   \n",
       "42010   Awesome game, not the scariest but sometimes m...             1   \n",
       "166549  the game is loads of fun and i am constantly t...             1   \n",
       "97318                                       gr8 story tbh             1   \n",
       "276478                                Early Access Review             1   \n",
       "\n",
       "        review_votes  \n",
       "312760             0  \n",
       "239787             0  \n",
       "82713              0  \n",
       "271594             1  \n",
       "27287              0  \n",
       "190088             0  \n",
       "42010              0  \n",
       "166549             0  \n",
       "97318              0  \n",
       "276478             0  "
      ]
     },
     "execution_count": 11,
     "metadata": {},
     "output_type": "execute_result"
    }
   ],
   "source": [
    "#sample 10 random rows to see what other games are there\n",
    "#https://datatofish.com/random-rows-pandas-dataframe/\n",
    "df.sample(n=10)"
   ]
  },
  {
   "cell_type": "code",
   "execution_count": 12,
   "id": "f0eb56c3-905a-405f-857d-a4bbb08ef0ea",
   "metadata": {},
   "outputs": [
    {
     "data": {
      "text/html": [
       "<div>\n",
       "<style scoped>\n",
       "    .dataframe tbody tr th:only-of-type {\n",
       "        vertical-align: middle;\n",
       "    }\n",
       "\n",
       "    .dataframe tbody tr th {\n",
       "        vertical-align: top;\n",
       "    }\n",
       "\n",
       "    .dataframe thead th {\n",
       "        text-align: right;\n",
       "    }\n",
       "</style>\n",
       "<table border=\"1\" class=\"dataframe\">\n",
       "  <thead>\n",
       "    <tr style=\"text-align: right;\">\n",
       "      <th></th>\n",
       "      <th>app_id</th>\n",
       "      <th>app_name</th>\n",
       "      <th>review_text</th>\n",
       "      <th>review_score</th>\n",
       "      <th>review_votes</th>\n",
       "    </tr>\n",
       "  </thead>\n",
       "  <tbody>\n",
       "    <tr>\n",
       "      <th>255295</th>\n",
       "      <td>391540</td>\n",
       "      <td>Undertale</td>\n",
       "      <td>This game is a dating sim This game is a horro...</td>\n",
       "      <td>1</td>\n",
       "      <td>0</td>\n",
       "    </tr>\n",
       "    <tr>\n",
       "      <th>255296</th>\n",
       "      <td>391540</td>\n",
       "      <td>Undertale</td>\n",
       "      <td>You should totally play this if you enjoy; -Ea...</td>\n",
       "      <td>1</td>\n",
       "      <td>1</td>\n",
       "    </tr>\n",
       "    <tr>\n",
       "      <th>255297</th>\n",
       "      <td>391540</td>\n",
       "      <td>Undertale</td>\n",
       "      <td>If you like spaghetti and crying alot, BUY THI...</td>\n",
       "      <td>1</td>\n",
       "      <td>0</td>\n",
       "    </tr>\n",
       "    <tr>\n",
       "      <th>255298</th>\n",
       "      <td>391540</td>\n",
       "      <td>Undertale</td>\n",
       "      <td>Pros:  - Amazing music.  - Amazing characters....</td>\n",
       "      <td>1</td>\n",
       "      <td>1</td>\n",
       "    </tr>\n",
       "    <tr>\n",
       "      <th>255299</th>\n",
       "      <td>391540</td>\n",
       "      <td>Undertale</td>\n",
       "      <td>All right, this game is epic. There is just fe...</td>\n",
       "      <td>1</td>\n",
       "      <td>1</td>\n",
       "    </tr>\n",
       "    <tr>\n",
       "      <th>...</th>\n",
       "      <td>...</td>\n",
       "      <td>...</td>\n",
       "      <td>...</td>\n",
       "      <td>...</td>\n",
       "      <td>...</td>\n",
       "    </tr>\n",
       "    <tr>\n",
       "      <th>257787</th>\n",
       "      <td>391540</td>\n",
       "      <td>Undertale</td>\n",
       "      <td>the feels with this are out of this world.if y...</td>\n",
       "      <td>1</td>\n",
       "      <td>0</td>\n",
       "    </tr>\n",
       "    <tr>\n",
       "      <th>257788</th>\n",
       "      <td>391540</td>\n",
       "      <td>Undertale</td>\n",
       "      <td>One of the best experience in a video game tha...</td>\n",
       "      <td>1</td>\n",
       "      <td>0</td>\n",
       "    </tr>\n",
       "    <tr>\n",
       "      <th>257789</th>\n",
       "      <td>391540</td>\n",
       "      <td>Undertale</td>\n",
       "      <td>As someone who was very turned off by all the ...</td>\n",
       "      <td>1</td>\n",
       "      <td>0</td>\n",
       "    </tr>\n",
       "    <tr>\n",
       "      <th>257790</th>\n",
       "      <td>391540</td>\n",
       "      <td>Undertale</td>\n",
       "      <td>You can beat a spear-throwing fish in armor wi...</td>\n",
       "      <td>1</td>\n",
       "      <td>0</td>\n",
       "    </tr>\n",
       "    <tr>\n",
       "      <th>257791</th>\n",
       "      <td>391540</td>\n",
       "      <td>Undertale</td>\n",
       "      <td>I loved the game it broke the 4th wall a lot a...</td>\n",
       "      <td>1</td>\n",
       "      <td>1</td>\n",
       "    </tr>\n",
       "  </tbody>\n",
       "</table>\n",
       "<p>2497 rows × 5 columns</p>\n",
       "</div>"
      ],
      "text/plain": [
       "        app_id   app_name                                        review_text  \\\n",
       "255295  391540  Undertale  This game is a dating sim This game is a horro...   \n",
       "255296  391540  Undertale  You should totally play this if you enjoy; -Ea...   \n",
       "255297  391540  Undertale  If you like spaghetti and crying alot, BUY THI...   \n",
       "255298  391540  Undertale  Pros:  - Amazing music.  - Amazing characters....   \n",
       "255299  391540  Undertale  All right, this game is epic. There is just fe...   \n",
       "...        ...        ...                                                ...   \n",
       "257787  391540  Undertale  the feels with this are out of this world.if y...   \n",
       "257788  391540  Undertale  One of the best experience in a video game tha...   \n",
       "257789  391540  Undertale  As someone who was very turned off by all the ...   \n",
       "257790  391540  Undertale  You can beat a spear-throwing fish in armor wi...   \n",
       "257791  391540  Undertale  I loved the game it broke the 4th wall a lot a...   \n",
       "\n",
       "        review_score  review_votes  \n",
       "255295             1             0  \n",
       "255296             1             1  \n",
       "255297             1             0  \n",
       "255298             1             1  \n",
       "255299             1             1  \n",
       "...              ...           ...  \n",
       "257787             1             0  \n",
       "257788             1             0  \n",
       "257789             1             0  \n",
       "257790             1             0  \n",
       "257791             1             1  \n",
       "\n",
       "[2497 rows x 5 columns]"
      ]
     },
     "execution_count": 12,
     "metadata": {},
     "output_type": "execute_result"
    }
   ],
   "source": [
    "#Retrieve row based on specific value in column\n",
    "#https://www.statology.org/pandas-select-rows-based-on-column-values/\n",
    "game = \"Undertale\"\n",
    "df.loc[df['app_name'] == game]"
   ]
  },
  {
   "cell_type": "code",
   "execution_count": 14,
   "id": "19c2750d-bea9-49b7-b080-5c7308bdc3e1",
   "metadata": {},
   "outputs": [
    {
     "data": {
      "text/plain": [
       "app_id             0\n",
       "app_name        9026\n",
       "review_text      357\n",
       "review_score       0\n",
       "review_votes       0\n",
       "dtype: int64"
      ]
     },
     "execution_count": 14,
     "metadata": {},
     "output_type": "execute_result"
    }
   ],
   "source": [
    "#see how rows have null value\n",
    "#https://chartio.com/resources/tutorials/how-to-check-if-any-value-is-nan-in-a-pandas-dataframe/\n",
    "df.isnull().sum()"
   ]
  },
  {
   "cell_type": "code",
   "execution_count": 15,
   "id": "f26ad90a-8166-4f14-80b4-841aed3fe930",
   "metadata": {},
   "outputs": [
    {
     "data": {
      "text/plain": [
       "app_id          0\n",
       "app_name        0\n",
       "review_text     0\n",
       "review_score    0\n",
       "review_votes    0\n",
       "dtype: int64"
      ]
     },
     "execution_count": 15,
     "metadata": {},
     "output_type": "execute_result"
    }
   ],
   "source": [
    "#select the rows where the value is not null in app_name and review_text\n",
    "#https://stackoverflow.com/questions/13413590/how-to-drop-rows-of-pandas-dataframe-whose-value-in-a-certain-column-is-nan\n",
    "df = df[df['app_name'].notna()]\n",
    "df = df[df['review_text'].notna()]\n",
    "df.isnull().sum()"
   ]
  },
  {
   "cell_type": "code",
   "execution_count": 16,
   "id": "66266404-5d06-456a-ad65-1d1f5f21ebb2",
   "metadata": {},
   "outputs": [
    {
     "name": "stdout",
     "output_type": "stream",
     "text": [
      "<class 'pandas.core.frame.DataFrame'>\n",
      "Index: 311396 entries, 0 to 320771\n",
      "Data columns (total 5 columns):\n",
      " #   Column        Non-Null Count   Dtype \n",
      "---  ------        --------------   ----- \n",
      " 0   app_id        311396 non-null  int64 \n",
      " 1   app_name      311396 non-null  object\n",
      " 2   review_text   311396 non-null  object\n",
      " 3   review_score  311396 non-null  int64 \n",
      " 4   review_votes  311396 non-null  int64 \n",
      "dtypes: int64(3), object(2)\n",
      "memory usage: 14.3+ MB\n"
     ]
    }
   ],
   "source": [
    "df.info()"
   ]
  },
  {
   "cell_type": "code",
   "execution_count": 17,
   "id": "22c38985-1951-455a-aaf2-f78ec7b3d88c",
   "metadata": {},
   "outputs": [
    {
     "data": {
      "text/plain": [
       "app_name\n",
       "DayZ                  4453\n",
       "PAYDAY 2              4403\n",
       "Terraria              4156\n",
       "Rust                  3808\n",
       "Dota 2                3667\n",
       "Rocket League         2716\n",
       "Left 4 Dead 2         2551\n",
       "Undertale             2496\n",
       "Warframe              2393\n",
       "Grand Theft Auto V    2140\n",
       "dtype: int64"
      ]
     },
     "execution_count": 17,
     "metadata": {},
     "output_type": "execute_result"
    }
   ],
   "source": [
    "#load the top 10 games with the most reviews\n",
    "#https://www.statology.org/pandas-pivot-table-count/\n",
    "df.pivot_table(columns=['app_name'], aggfunc='size').sort_values(ascending=False).head(10)"
   ]
  },
  {
   "cell_type": "code",
   "execution_count": 39,
   "id": "1efdb524-897a-4f93-ab66-6bcf84577df5",
   "metadata": {},
   "outputs": [
    {
     "data": {
      "text/plain": [
       "([0, 1, 2, 3, 4, 5, 6, 7, 8, 9],\n",
       " [Text(0, 0, 'DayZ'),\n",
       "  Text(1, 0, 'PAYDAY 2'),\n",
       "  Text(2, 0, 'Terraria'),\n",
       "  Text(3, 0, 'Rust'),\n",
       "  Text(4, 0, 'Dota 2'),\n",
       "  Text(5, 0, 'Rocket League'),\n",
       "  Text(6, 0, 'Left 4 Dead 2'),\n",
       "  Text(7, 0, 'Undertale'),\n",
       "  Text(8, 0, 'Warframe'),\n",
       "  Text(9, 0, 'Grand Theft Auto V')])"
      ]
     },
     "execution_count": 39,
     "metadata": {},
     "output_type": "execute_result"
    },
    {
     "data": {
      "image/png": "[encoded data removed]",
      "text/plain": [
       "<Figure size 640x480 with 1 Axes>"
      ]
     },
     "metadata": {},
     "output_type": "display_data"
    }
   ],
   "source": [
    "sns.countplot(x='app_name',data=df,order=pd.value_counts(df['app_name']).iloc[:10].index).set(title= 'Top 10 Games with Most Total Reviews')\n",
    "plt.xticks(rotation=45)"
   ]
  },
  {
   "cell_type": "markdown",
   "id": "4d62944d-c290-49fb-a9e6-c46de0a00c67",
   "metadata": {},
   "source": [
    "DayZ has the most overall number of Steam reviews"
   ]
  },
  {
   "cell_type": "code",
   "execution_count": 23,
   "id": "019c73d6-1f22-44dd-a04d-756be0c86f8f",
   "metadata": {},
   "outputs": [
    {
     "data": {
      "text/html": [
       "<div>\n",
       "<style scoped>\n",
       "    .dataframe tbody tr th:only-of-type {\n",
       "        vertical-align: middle;\n",
       "    }\n",
       "\n",
       "    .dataframe tbody tr th {\n",
       "        vertical-align: top;\n",
       "    }\n",
       "\n",
       "    .dataframe thead th {\n",
       "        text-align: right;\n",
       "    }\n",
       "</style>\n",
       "<table border=\"1\" class=\"dataframe\">\n",
       "  <thead>\n",
       "    <tr style=\"text-align: right;\">\n",
       "      <th></th>\n",
       "      <th>app_id</th>\n",
       "      <th>app_name</th>\n",
       "      <th>review_text</th>\n",
       "      <th>review_score</th>\n",
       "      <th>review_votes</th>\n",
       "    </tr>\n",
       "  </thead>\n",
       "  <tbody>\n",
       "    <tr>\n",
       "      <th>3457</th>\n",
       "      <td>105600</td>\n",
       "      <td>Terraria</td>\n",
       "      <td>played for 390 hours and still not bored from ...</td>\n",
       "      <td>1</td>\n",
       "      <td>1</td>\n",
       "    </tr>\n",
       "    <tr>\n",
       "      <th>3458</th>\n",
       "      <td>105600</td>\n",
       "      <td>Terraria</td>\n",
       "      <td>Pros: - Insane amount of content. - Great comb...</td>\n",
       "      <td>1</td>\n",
       "      <td>1</td>\n",
       "    </tr>\n",
       "    <tr>\n",
       "      <th>3459</th>\n",
       "      <td>105600</td>\n",
       "      <td>Terraria</td>\n",
       "      <td>This is probably one of the best Games here on...</td>\n",
       "      <td>1</td>\n",
       "      <td>1</td>\n",
       "    </tr>\n",
       "    <tr>\n",
       "      <th>3460</th>\n",
       "      <td>105600</td>\n",
       "      <td>Terraria</td>\n",
       "      <td>Bad game. No content. 800+hrs/10 would spend y...</td>\n",
       "      <td>1</td>\n",
       "      <td>1</td>\n",
       "    </tr>\n",
       "    <tr>\n",
       "      <th>3461</th>\n",
       "      <td>105600</td>\n",
       "      <td>Terraria</td>\n",
       "      <td>I have had a really good experience with this ...</td>\n",
       "      <td>1</td>\n",
       "      <td>1</td>\n",
       "    </tr>\n",
       "    <tr>\n",
       "      <th>...</th>\n",
       "      <td>...</td>\n",
       "      <td>...</td>\n",
       "      <td>...</td>\n",
       "      <td>...</td>\n",
       "      <td>...</td>\n",
       "    </tr>\n",
       "    <tr>\n",
       "      <th>7613</th>\n",
       "      <td>105600</td>\n",
       "      <td>Terraria</td>\n",
       "      <td>-Was just about to exit my world. -'The skelet...</td>\n",
       "      <td>1</td>\n",
       "      <td>1</td>\n",
       "    </tr>\n",
       "    <tr>\n",
       "      <th>7614</th>\n",
       "      <td>105600</td>\n",
       "      <td>Terraria</td>\n",
       "      <td>One of the best 2D games out there, and cheap ...</td>\n",
       "      <td>1</td>\n",
       "      <td>0</td>\n",
       "    </tr>\n",
       "    <tr>\n",
       "      <th>7615</th>\n",
       "      <td>105600</td>\n",
       "      <td>Terraria</td>\n",
       "      <td>Terraria is a 2D survival game that allows you...</td>\n",
       "      <td>1</td>\n",
       "      <td>0</td>\n",
       "    </tr>\n",
       "    <tr>\n",
       "      <th>7616</th>\n",
       "      <td>105600</td>\n",
       "      <td>Terraria</td>\n",
       "      <td>You fight the undead, you fight nature, you ...</td>\n",
       "      <td>1</td>\n",
       "      <td>0</td>\n",
       "    </tr>\n",
       "    <tr>\n",
       "      <th>7617</th>\n",
       "      <td>105600</td>\n",
       "      <td>Terraria</td>\n",
       "      <td>While I find building appealing buildings tedi...</td>\n",
       "      <td>1</td>\n",
       "      <td>0</td>\n",
       "    </tr>\n",
       "  </tbody>\n",
       "</table>\n",
       "<p>4156 rows × 5 columns</p>\n",
       "</div>"
      ],
      "text/plain": [
       "      app_id  app_name                                        review_text  \\\n",
       "3457  105600  Terraria  played for 390 hours and still not bored from ...   \n",
       "3458  105600  Terraria  Pros: - Insane amount of content. - Great comb...   \n",
       "3459  105600  Terraria  This is probably one of the best Games here on...   \n",
       "3460  105600  Terraria  Bad game. No content. 800+hrs/10 would spend y...   \n",
       "3461  105600  Terraria  I have had a really good experience with this ...   \n",
       "...      ...       ...                                                ...   \n",
       "7613  105600  Terraria  -Was just about to exit my world. -'The skelet...   \n",
       "7614  105600  Terraria  One of the best 2D games out there, and cheap ...   \n",
       "7615  105600  Terraria  Terraria is a 2D survival game that allows you...   \n",
       "7616  105600  Terraria    You fight the undead, you fight nature, you ...   \n",
       "7617  105600  Terraria  While I find building appealing buildings tedi...   \n",
       "\n",
       "      review_score  review_votes  \n",
       "3457             1             1  \n",
       "3458             1             1  \n",
       "3459             1             1  \n",
       "3460             1             1  \n",
       "3461             1             1  \n",
       "...            ...           ...  \n",
       "7613             1             1  \n",
       "7614             1             0  \n",
       "7615             1             0  \n",
       "7616             1             0  \n",
       "7617             1             0  \n",
       "\n",
       "[4156 rows x 5 columns]"
      ]
     },
     "execution_count": 23,
     "metadata": {},
     "output_type": "execute_result"
    }
   ],
   "source": [
    "#Filtering all the reviews of the game Terraria\n",
    "df[df['app_name']=='Terraria']"
   ]
  },
  {
   "cell_type": "code",
   "execution_count": 37,
   "id": "a3f801cb-fe01-4327-8e93-68e71f24cace",
   "metadata": {},
   "outputs": [
    {
     "data": {
      "text/plain": [
       "[Text(0.5, 1.0, 'Terraria Recommended vs Not Recommended')]"
      ]
     },
     "execution_count": 37,
     "metadata": {},
     "output_type": "execute_result"
    },
    {
     "data": {
      "image/png": "[encoded data removed]",
      "text/plain": [
       "<Figure size 640x480 with 1 Axes>"
      ]
     },
     "metadata": {},
     "output_type": "display_data"
    }
   ],
   "source": [
    "dfTerraria= df[df['app_name']=='Terraria']\n",
    "sns.countplot(x='review_score',data=dfTerraria).set(title='Terraria Recommended vs Not Recommended')"
   ]
  },
  {
   "cell_type": "markdown",
   "id": "e10b9051-9062-4ac8-a0c0-db6aa913ae97",
   "metadata": {},
   "source": [
    "There are more Recommended reviews for Terraria than Not Recommended."
   ]
  },
  {
   "cell_type": "code",
   "execution_count": 25,
   "id": "9e7d010e-6801-45dc-98c6-bcf4272553b4",
   "metadata": {},
   "outputs": [],
   "source": [
    "#Game with the most number of recommended reviews\n",
    "df_rec = df[df['review_score']==1].pivot_table(columns=['app_name'],aggfunc='size').sort_values(ascending=False).head(10)"
   ]
  },
  {
   "cell_type": "code",
   "execution_count": 26,
   "id": "d3aa7223-a8ae-45fe-a046-647d4684e4f0",
   "metadata": {},
   "outputs": [
    {
     "data": {
      "text/plain": [
       "app_name\n",
       "Terraria         4026\n",
       "Dota 2           3130\n",
       "PAYDAY 2         3061\n",
       "Rust             3049\n",
       "DayZ             2996\n",
       "Rocket League    2571\n",
       "Undertale        2416\n",
       "Left 4 Dead 2    2364\n",
       "Warframe         2163\n",
       "Portal 2         1813\n",
       "dtype: int64"
      ]
     },
     "execution_count": 26,
     "metadata": {},
     "output_type": "execute_result"
    }
   ],
   "source": [
    "df_rec"
   ]
  },
  {
   "cell_type": "code",
   "execution_count": 35,
   "id": "864ed234-59ee-4307-b954-337ee4edb7e7",
   "metadata": {},
   "outputs": [
    {
     "data": {
      "text/plain": [
       "<Axes: title={'center': 'Top 10 Games with Recommended Reviews'}, xlabel='app_name'>"
      ]
     },
     "execution_count": 35,
     "metadata": {},
     "output_type": "execute_result"
    },
    {
     "data": {
      "image/png": "[encoded data removed]",
      "text/plain": [
       "<Figure size 640x480 with 1 Axes>"
      ]
     },
     "metadata": {},
     "output_type": "display_data"
    }
   ],
   "source": [
    "df_rec.plot.bar(title = \"Top 10 Games with Recommended Reviews\")"
   ]
  },
  {
   "cell_type": "markdown",
   "id": "8f8500e1-332e-43c6-9cde-a39416bb192a",
   "metadata": {},
   "source": [
    "Terraria has the most number of positive reviews"
   ]
  },
  {
   "cell_type": "code",
   "execution_count": 54,
   "id": "88e7e825-56bb-4200-8700-13a0dce1c456",
   "metadata": {
    "scrolled": true
   },
   "outputs": [
    {
     "data": {
      "text/plain": [
       "[Text(0.5, 1.0, 'DayZ Recommended vs Not Recommended')]"
      ]
     },
     "execution_count": 54,
     "metadata": {},
     "output_type": "execute_result"
    },
    {
     "data": {
      "image/png": "[encoded data removed]",
      "text/plain": [
       "<Figure size 640x480 with 1 Axes>"
      ]
     },
     "metadata": {},
     "output_type": "display_data"
    }
   ],
   "source": [
    "dfDayZ= df[df['app_name']=='DayZ']\n",
    "sns.countplot(x='review_score',data=dfDayZ).set(title='DayZ Recommended vs Not Recommended')"
   ]
  },
  {
   "cell_type": "code",
   "execution_count": 51,
   "id": "870b8619-c97c-4bed-8098-20f7d5db7170",
   "metadata": {},
   "outputs": [
    {
     "data": {
      "text/plain": [
       "2996"
      ]
     },
     "execution_count": 51,
     "metadata": {},
     "output_type": "execute_result"
    }
   ],
   "source": [
    "(dfDayZ['review_score']== 1).sum()"
   ]
  },
  {
   "cell_type": "code",
   "execution_count": 50,
   "id": "63c7b249-f8c8-4d13-a5e1-907568279915",
   "metadata": {},
   "outputs": [
    {
     "data": {
      "text/plain": [
       "1457"
      ]
     },
     "execution_count": 50,
     "metadata": {},
     "output_type": "execute_result"
    }
   ],
   "source": [
    "(dfDayZ['review_score']== -1).sum()"
   ]
  },
  {
   "cell_type": "markdown",
   "id": "d89e665f-19b6-4d12-a11b-0e694130f4ca",
   "metadata": {},
   "source": [
    "DayZ has nearly half of the reviews that do not recommend the game."
   ]
  },
  {
   "cell_type": "code",
   "execution_count": 55,
   "id": "ee11232a-2d37-4cd4-9304-d4104f1e2b50",
   "metadata": {},
   "outputs": [
    {
     "data": {
      "text/plain": [
       "<Axes: xlabel='review_score', ylabel='count'>"
      ]
     },
     "execution_count": 55,
     "metadata": {},
     "output_type": "execute_result"
    },
    {
     "data": {
      "image/png": "[encoded data removed]",
      "text/plain": [
       "<Figure size 640x480 with 1 Axes>"
      ]
     },
     "metadata": {},
     "output_type": "display_data"
    }
   ],
   "source": [
    "sns.countplot(data=df, x = 'review_score')"
   ]
  },
  {
   "cell_type": "code",
   "execution_count": 56,
   "id": "c041dcd7-fefb-4460-9fb3-728140acfa87",
   "metadata": {},
   "outputs": [
    {
     "data": {
      "text/plain": [
       "54969"
      ]
     },
     "execution_count": 56,
     "metadata": {},
     "output_type": "execute_result"
    }
   ],
   "source": [
    "(df['review_score']== -1).sum()"
   ]
  },
  {
   "cell_type": "code",
   "execution_count": 57,
   "id": "52eaf7ba-b1b1-4706-b0be-4ed641c9128f",
   "metadata": {},
   "outputs": [
    {
     "data": {
      "text/plain": [
       "256427"
      ]
     },
     "execution_count": 57,
     "metadata": {},
     "output_type": "execute_result"
    }
   ],
   "source": [
    "(df['review_score']== 1).sum()"
   ]
  },
  {
   "cell_type": "markdown",
   "id": "73f7bb67-cc55-46dc-9ab4-c49e1aa6e118",
   "metadata": {},
   "source": [
    "There are 54969 not recommended reviews total. Balance the data to have 50/50 rating"
   ]
  },
  {
   "cell_type": "code",
   "execution_count": 58,
   "id": "721fcf51-1390-40d5-93b4-ed00e0e0cb2f",
   "metadata": {},
   "outputs": [],
   "source": [
    "#filter for positive review\n",
    "data_Positive = df[df['review_score'] == 1 ]\n",
    "#randomly select 54969 rows\n",
    "data_Positive = data_Positive.sample(n=54969, random_state=42)  # Set random_state for reproducibility"
   ]
  },
  {
   "cell_type": "code",
   "execution_count": 61,
   "id": "5d832a7e-a6b6-4e77-bf3c-454f2a3be87e",
   "metadata": {},
   "outputs": [
    {
     "data": {
      "text/plain": [
       "(54969, 5)"
      ]
     },
     "execution_count": 61,
     "metadata": {},
     "output_type": "execute_result"
    }
   ],
   "source": [
    "data_Positive.shape"
   ]
  },
  {
   "cell_type": "code",
   "execution_count": 63,
   "id": "617153ab-1c26-480e-b205-c1b1227a5ded",
   "metadata": {},
   "outputs": [
    {
     "data": {
      "text/plain": [
       "(54969, 5)"
      ]
     },
     "execution_count": 63,
     "metadata": {},
     "output_type": "execute_result"
    }
   ],
   "source": [
    "#filter for negative review\n",
    "data_Negative = df[df['review_score'] == -1]\n",
    "data_Negative.shape"
   ]
  },
  {
   "cell_type": "code",
   "execution_count": 65,
   "id": "81eb8f77-a4a8-4ef0-b7b8-25ecdd5b2342",
   "metadata": {},
   "outputs": [],
   "source": [
    "data_Negative_over = data_Negative.sample(8000, replace=True)\n",
    "df_balance_reviews = pd.concat([data_Positive, data_Negative_over], axis=0)"
   ]
  },
  {
   "cell_type": "code",
   "execution_count": 68,
   "id": "c224d212-0b54-403d-ad89-b02f653997f2",
   "metadata": {},
   "outputs": [
    {
     "data": {
      "text/html": [
       "<div>\n",
       "<style scoped>\n",
       "    .dataframe tbody tr th:only-of-type {\n",
       "        vertical-align: middle;\n",
       "    }\n",
       "\n",
       "    .dataframe tbody tr th {\n",
       "        vertical-align: top;\n",
       "    }\n",
       "\n",
       "    .dataframe thead th {\n",
       "        text-align: right;\n",
       "    }\n",
       "</style>\n",
       "<table border=\"1\" class=\"dataframe\">\n",
       "  <thead>\n",
       "    <tr style=\"text-align: right;\">\n",
       "      <th></th>\n",
       "      <th>app_id</th>\n",
       "      <th>app_name</th>\n",
       "      <th>review_text</th>\n",
       "      <th>review_score</th>\n",
       "      <th>review_votes</th>\n",
       "    </tr>\n",
       "  </thead>\n",
       "  <tbody>\n",
       "    <tr>\n",
       "      <th>272567</th>\n",
       "      <td>42680</td>\n",
       "      <td>Call of Duty: Modern Warfare 3</td>\n",
       "      <td>Single player campaign is like every previous ...</td>\n",
       "      <td>1</td>\n",
       "      <td>0</td>\n",
       "    </tr>\n",
       "    <tr>\n",
       "      <th>28351</th>\n",
       "      <td>203770</td>\n",
       "      <td>Crusader Kings II</td>\n",
       "      <td>Crusader Kings 2 is one of my favourite games....</td>\n",
       "      <td>1</td>\n",
       "      <td>0</td>\n",
       "    </tr>\n",
       "    <tr>\n",
       "      <th>210865</th>\n",
       "      <td>324080</td>\n",
       "      <td>Rising World</td>\n",
       "      <td>Early Access Review</td>\n",
       "      <td>1</td>\n",
       "      <td>1</td>\n",
       "    </tr>\n",
       "    <tr>\n",
       "      <th>319122</th>\n",
       "      <td>94400</td>\n",
       "      <td>Nidhogg</td>\n",
       "      <td>An amazing multiplayer fighting game. Absolute...</td>\n",
       "      <td>1</td>\n",
       "      <td>0</td>\n",
       "    </tr>\n",
       "    <tr>\n",
       "      <th>286674</th>\n",
       "      <td>47780</td>\n",
       "      <td>Dead Space 2</td>\n",
       "      <td>Totally worth the money. It gets better if you...</td>\n",
       "      <td>1</td>\n",
       "      <td>0</td>\n",
       "    </tr>\n",
       "  </tbody>\n",
       "</table>\n",
       "</div>"
      ],
      "text/plain": [
       "        app_id                        app_name  \\\n",
       "272567   42680  Call of Duty: Modern Warfare 3   \n",
       "28351   203770               Crusader Kings II   \n",
       "210865  324080                    Rising World   \n",
       "319122   94400                         Nidhogg   \n",
       "286674   47780                    Dead Space 2   \n",
       "\n",
       "                                              review_text  review_score  \\\n",
       "272567  Single player campaign is like every previous ...             1   \n",
       "28351   Crusader Kings 2 is one of my favourite games....             1   \n",
       "210865                                Early Access Review             1   \n",
       "319122  An amazing multiplayer fighting game. Absolute...             1   \n",
       "286674  Totally worth the money. It gets better if you...             1   \n",
       "\n",
       "        review_votes  \n",
       "272567             0  \n",
       "28351              0  \n",
       "210865             1  \n",
       "319122             0  \n",
       "286674             0  "
      ]
     },
     "execution_count": 68,
     "metadata": {},
     "output_type": "execute_result"
    }
   ],
   "source": [
    "df_balance_reviews.head()"
   ]
  },
  {
   "cell_type": "markdown",
   "id": "4e0848c4-52fd-4d25-a934-291b8d41ec1e",
   "metadata": {},
   "source": [
    "Downloading stopwords from nltk"
   ]
  },
  {
   "cell_type": "code",
   "execution_count": 70,
   "id": "a931a74a-cb8d-4cee-b4e9-88bfca765ae0",
   "metadata": {},
   "outputs": [
    {
     "name": "stderr",
     "output_type": "stream",
     "text": [
      "[nltk_data] Downloading package stopwords to\n",
      "[nltk_data]     C:\\Users\\Jerry\\AppData\\Roaming\\nltk_data...\n",
      "[nltk_data]   Unzipping corpora\\stopwords.zip.\n"
     ]
    }
   ],
   "source": [
    "#Setting the stop words\n",
    "import nltk\n",
    "nltk.download('stopwords')\n",
    "english_stops = set(stopwords.words('english'))"
   ]
  },
  {
   "cell_type": "code",
   "execution_count": 71,
   "id": "99c9e88c-121b-4af4-9676-4372c5e835f1",
   "metadata": {},
   "outputs": [],
   "source": [
    "df = df_balance_reviews\n",
    "x_data = df['review_text']       # Reviews/Input\n",
    "y_data = df['review_score']    # Sentiment/Output\n",
    "\n",
    "# PRE-PROCESS REVIEW\n",
    "x_data = x_data.replace({'<.*?>': ''}, regex = True)          # remove html tag\n",
    "x_data = x_data.replace({'[^A-Za-z]': ' '}, regex = True)     # remove non alphabet\n",
    "x_data = x_data.apply(lambda review: [w for w in review.split() if w not in english_stops])  # remove stop words\n",
    "x_data = x_data.apply(lambda review: [w.lower() for w in review])   # lower case\n",
    "\n",
    "# ENCODE SENTIMENT -> 0 & 1\n",
    "#1 to Recommend 1 -1 to Not Recommend 0\n",
    "y_data = y_data.replace(1, 1)\n",
    "### simmilarly for y_data\n",
    "y_data = y_data.replace(-1, 0)"
   ]
  },
  {
   "cell_type": "markdown",
   "id": "b7bfa427-99b0-46e4-9a15-b0efc21dfdfd",
   "metadata": {},
   "source": [
    "Splitting the dataset for training"
   ]
  },
  {
   "cell_type": "code",
   "execution_count": 72,
   "id": "cefbe36d-a70e-4e53-8780-e61a258d73a6",
   "metadata": {},
   "outputs": [],
   "source": [
    "X_train, X_test, y_train, y_test = train_test_split(x_data, y_data, test_size=0.2, random_state=101)"
   ]
  },
  {
   "cell_type": "markdown",
   "id": "b10fd985-396e-4986-8bbe-88ae9859daf6",
   "metadata": {},
   "source": [
    "Making a function to get the max length for padding"
   ]
  },
  {
   "cell_type": "code",
   "execution_count": 73,
   "id": "52c5a67f-77d3-4aca-97f5-b0aefdba3452",
   "metadata": {},
   "outputs": [],
   "source": [
    "def get_max_length(x_train):\n",
    "    review_length = []\n",
    "    for review in x_train:\n",
    "        review_length.append(len(review))\n",
    "\n",
    "    return int(np.ceil(np.mean(review_length)))"
   ]
  },
  {
   "cell_type": "code",
   "execution_count": 74,
   "id": "7dfabf44-842f-4411-a8ec-f939cfbe406b",
   "metadata": {},
   "outputs": [
    {
     "name": "stdout",
     "output_type": "stream",
     "text": [
      "32\n"
     ]
    }
   ],
   "source": [
    "max_length = get_max_length(X_train)\n",
    "print(max_length)"
   ]
  },
  {
   "cell_type": "markdown",
   "id": "4fc7f957-b620-46c0-b5ce-f627d5a381d7",
   "metadata": {},
   "source": [
    "Loading the Tokenizer to convert the words into sequences and then add the padding to make the rows equal lenght."
   ]
  },
  {
   "cell_type": "code",
   "execution_count": 75,
   "id": "c1f22494-f509-4c37-b7e5-8a15993182e6",
   "metadata": {},
   "outputs": [],
   "source": [
    "# ENCODE REVIEW\n",
    "token = Tokenizer(lower=False)    # False becuase we already did it. \n",
    "token.fit_on_texts(X_train)\n",
    "x_train = token.texts_to_sequences(X_train)\n",
    "x_test = token.texts_to_sequences(X_test)\n",
    "\n",
    "### this is the code to add the pad to x_train\n",
    "x_train = pad_sequences(x_train, maxlen=max_length, padding='post', truncating='post')\n",
    "\n",
    "############# add pad to x_test   ########################### \n",
    "x_test = pad_sequences(x_test, maxlen=max_length, padding='post', truncating='post')\n",
    "\n",
    "total_words = len(token.word_index) + 1   # we need to add 1 because of 0 padding"
   ]
  },
  {
   "cell_type": "markdown",
   "id": "debf7819-e0ca-4e72-a068-9cbd3ea3c8fd",
   "metadata": {},
   "source": [
    "Building the RNN with LSTM Model. "
   ]
  },
  {
   "cell_type": "code",
   "execution_count": 76,
   "id": "6c0d3578-5a15-4f72-83b1-f8c8a1f38a0a",
   "metadata": {},
   "outputs": [],
   "source": [
    "# ARCHITECTURE\n",
    "EMBED_DIM = 3200\n",
    "LSTM_OUT = 64\n",
    "\n",
    "#### add the model here:\n",
    "model = Sequential()\n",
    "\n",
    "#model.add(Embedding(input_dim=max_length, output_dim=LSTM_OUT,input_length=max_length))\n",
    "model.add(Embedding(total_words, EMBED_DIM, input_length = max_length))\n",
    "model.add(LSTM(LSTM_OUT))\n",
    "model.add(Dense(units=1, activation='sigmoid'))\n",
    "\n",
    "### compile the model using: optimizer = 'adam', loss = 'binary_crossentropy', metrics = ['accuracy']\n",
    "model.compile(optimizer='adam', loss='binary_crossentropy', metrics=['accuracy'])\n",
    "\n",
    "#Adding a Checkpoint to save the model.\n",
    "checkpoint = ModelCheckpoint('models/LSTM.h5', monitor='accuracy', save_best_only=True, verbose=1)"
   ]
  },
  {
   "cell_type": "code",
   "execution_count": 77,
   "id": "507b402f-5269-4e16-8677-c5528033f949",
   "metadata": {},
   "outputs": [
    {
     "name": "stdout",
     "output_type": "stream",
     "text": [
      "Model: \"sequential\"\n",
      "_________________________________________________________________\n",
      " Layer (type)                Output Shape              Param #   \n",
      "=================================================================\n",
      " embedding (Embedding)       (None, 32, 3200)          159766400 \n",
      "                                                                 \n",
      " lstm (LSTM)                 (None, 64)                835840    \n",
      "                                                                 \n",
      " dense (Dense)               (None, 1)                 65        \n",
      "                                                                 \n",
      "=================================================================\n",
      "Total params: 160,602,305\n",
      "Trainable params: 160,602,305\n",
      "Non-trainable params: 0\n",
      "_________________________________________________________________\n"
     ]
    }
   ],
   "source": [
    "model.summary()"
   ]
  },
  {
   "cell_type": "code",
   "execution_count": 78,
   "id": "c4455a9d-2f0a-4701-80dc-a543abc10bf4",
   "metadata": {},
   "outputs": [
    {
     "name": "stdout",
     "output_type": "stream",
     "text": [
      "Epoch 1/3\n",
      "2519/2519 [==============================] - ETA: 0s - loss: 0.3257 - accuracy: 0.8811\n",
      "Epoch 1: accuracy improved from -inf to 0.88107, saving model to models\\LSTM.h5\n",
      "2519/2519 [==============================] - 112s 43ms/step - loss: 0.3257 - accuracy: 0.8811 - val_loss: 0.2826 - val_accuracy: 0.8931\n",
      "Epoch 2/3\n",
      "2519/2519 [==============================] - ETA: 0s - loss: 0.2242 - accuracy: 0.9163\n",
      "Epoch 2: accuracy improved from 0.88107 to 0.91629, saving model to models\\LSTM.h5\n",
      "2519/2519 [==============================] - 107s 42ms/step - loss: 0.2242 - accuracy: 0.9163 - val_loss: 0.3006 - val_accuracy: 0.8915\n",
      "Epoch 3/3\n",
      "2519/2519 [==============================] - ETA: 0s - loss: 0.1621 - accuracy: 0.9421\n",
      "Epoch 3: accuracy improved from 0.91629 to 0.94207, saving model to models\\LSTM.h5\n",
      "2519/2519 [==============================] - 108s 43ms/step - loss: 0.1621 - accuracy: 0.9421 - val_loss: 0.3271 - val_accuracy: 0.8902\n"
     ]
    }
   ],
   "source": [
    "history = model.fit(x_train, y_train, epochs=3, batch_size=20, callbacks= [checkpoint],validation_data=(x_test, y_test))"
   ]
  },
  {
   "cell_type": "markdown",
   "id": "b0eb1dda-65a1-40d3-ba5a-b9653c917c9a",
   "metadata": {},
   "source": [
    "Plotting the loss"
   ]
  },
  {
   "cell_type": "code",
   "execution_count": 79,
   "id": "2123d9b9-5885-483c-9b71-b4f3e55c18b3",
   "metadata": {},
   "outputs": [
    {
     "data": {
      "text/plain": [
       "<matplotlib.legend.Legend at 0x169165c5ac0>"
      ]
     },
     "execution_count": 79,
     "metadata": {},
     "output_type": "execute_result"
    },
    {
     "data": {
      "image/png": "[encoded data removed]",
      "text/plain": [
       "<Figure size 1200x600 with 1 Axes>"
      ]
     },
     "metadata": {},
     "output_type": "display_data"
    }
   ],
   "source": [
    "plt.figure(figsize=(12,6))\n",
    "plt.plot(model.history.history['loss'][:])\n",
    "plt.plot(model.history.history['val_loss'][:])\n",
    "plt.title('Model loss')\n",
    "plt.xlabel('epoch')\n",
    "plt.ylabel('loss (categorical_crossentropy)')\n",
    "plt.legend(['Train', 'Val'], loc='upper right')"
   ]
  },
  {
   "cell_type": "markdown",
   "id": "e454fad4-6205-48e5-9264-8e194b270cbd",
   "metadata": {},
   "source": [
    "Plotting the Accuracy"
   ]
  },
  {
   "cell_type": "code",
   "execution_count": 80,
   "id": "92118d10-e15f-4be8-a336-136a0477da6a",
   "metadata": {},
   "outputs": [
    {
     "data": {
      "image/png": "[encoded data removed]",
      "text/plain": [
       "<Figure size 1200x600 with 1 Axes>"
      ]
     },
     "metadata": {},
     "output_type": "display_data"
    }
   ],
   "source": [
    "plt.figure(figsize=(12,6))\n",
    "plt.plot(model.history.history['accuracy'][:])\n",
    "plt.plot(model.history.history['val_accuracy'][:])\n",
    "plt.title('Model accuracy')\n",
    "plt.ylabel('Accuracy')\n",
    "plt.xlabel('Epoch')\n",
    "plt.legend(['Train', 'Val'], loc='upper right')\n",
    "plt.show()"
   ]
  },
  {
   "cell_type": "markdown",
   "id": "060d731b-f709-4d35-ae3d-df2b21c05635",
   "metadata": {},
   "source": [
    "Now we can test out the model."
   ]
  },
  {
   "cell_type": "code",
   "execution_count": 107,
   "id": "d20a857c-7911-4a1e-9d62-c7f19e3eeacd",
   "metadata": {},
   "outputs": [
    {
     "data": {
      "text/plain": [
       "app_id                                                      42680\n",
       "app_name                           Call of Duty: Modern Warfare 3\n",
       "review_text     Has an amazing campaign a smooth game that is ...\n",
       "review_score                                                    1\n",
       "review_votes                                                    0\n",
       "Name: 272529, dtype: object"
      ]
     },
     "execution_count": 107,
     "metadata": {},
     "output_type": "execute_result"
    }
   ],
   "source": [
    "#I grab a random review from the dataframe\n",
    "value = 12345\n",
    "df.iloc[value]"
   ]
  },
  {
   "cell_type": "markdown",
   "id": "bfb4f570-1dc7-4ead-8818-551c65578393",
   "metadata": {},
   "source": [
    "Cleaning the data before loading it to the model for prediction"
   ]
  },
  {
   "cell_type": "code",
   "execution_count": 103,
   "id": "c3ee030c-e89f-4b7b-a49f-13d30bc780a8",
   "metadata": {},
   "outputs": [],
   "source": [
    "review = df.iloc[value]['review_text']\n",
    "\n",
    "regex = re.compile(r'[^a-zA-Z\\s]')\n",
    "review = regex.sub('', review)\n",
    "\n",
    "words = review.split(' ')\n",
    "filtered = [w for w in words if w not in english_stops]\n",
    "filtered = ' '.join(filtered)\n",
    "filtered = [filtered.lower()]"
   ]
  },
  {
   "cell_type": "markdown",
   "id": "e91207df-5cab-437f-bc17-9758c1780ec7",
   "metadata": {},
   "source": [
    "Tokenized and Encoded the word so it can be loaded into the model for prediction"
   ]
  },
  {
   "cell_type": "code",
   "execution_count": 104,
   "id": "0e7ee904-d7c5-4324-b54b-cc77b080d3af",
   "metadata": {},
   "outputs": [],
   "source": [
    "tokenize_words = token.texts_to_sequences(filtered)\n",
    "tokenize_words = pad_sequences(tokenize_words, maxlen=max_length, padding='post', truncating='post')"
   ]
  },
  {
   "cell_type": "code",
   "execution_count": 105,
   "id": "c52bea47-4fee-48a9-afca-54fdb069e00d",
   "metadata": {},
   "outputs": [
    {
     "name": "stdout",
     "output_type": "stream",
     "text": [
      "1/1 [==============================] - 0s 15ms/step\n",
      "Postive\n"
     ]
    }
   ],
   "source": [
    "result = model.predict(tokenize_words)\n",
    "\n",
    "if result >= .50:\n",
    "    print('Postive')\n",
    "else:\n",
    "    print('Negative')"
   ]
  },
  {
   "cell_type": "code",
   "execution_count": 116,
   "id": "1b8609f6-de6d-4bd5-bdb7-340d56687487",
   "metadata": {},
   "outputs": [
    {
     "data": {
      "text/plain": [
       "app_id                                                     424280\n",
       "app_name                                               Iron Snout\n",
       "review_text     I Just downloaded this game and i can't stop p...\n",
       "review_score                                                    1\n",
       "review_votes                                                    0\n",
       "gameID                                                        218\n",
       "Name: 271950, dtype: object"
      ]
     },
     "execution_count": 116,
     "metadata": {},
     "output_type": "execute_result"
    }
   ],
   "source": [
    "#I grab a random review from the dataframe\n",
    "value = 54321\n",
    "df.iloc[value]"
   ]
  },
  {
   "cell_type": "code",
   "execution_count": 114,
   "id": "dfca5719-60f7-4278-851b-dd1b604dc5e9",
   "metadata": {},
   "outputs": [
    {
     "name": "stdout",
     "output_type": "stream",
     "text": [
      "1/1 [==============================] - 0s 44ms/step\n",
      "Postive\n"
     ]
    }
   ],
   "source": [
    "regex = re.compile(r'[^a-zA-Z\\s]')\n",
    "review = regex.sub('', review)\n",
    "\n",
    "words = review.split(' ')\n",
    "filtered = [w for w in words if w not in english_stops]\n",
    "filtered = ' '.join(filtered)\n",
    "filtered = [filtered.lower()]\n",
    "tokenize_words = token.texts_to_sequences(filtered)\n",
    "tokenize_words = pad_sequences(tokenize_words, maxlen=max_length, padding='post', truncating='post')\n",
    "result = model.predict(tokenize_words)\n",
    "\n",
    "if result >= .50:\n",
    "    print('Postive')\n",
    "else:\n",
    "    print('Negative')"
   ]
  },
  {
   "cell_type": "code",
   "execution_count": 117,
   "id": "b4b270de-a234-4ec5-8c51-fda5980b799a",
   "metadata": {},
   "outputs": [
    {
     "data": {
      "text/plain": [
       "app_id                                                     454380\n",
       "app_name                                   Champions of Breakfast\n",
       "review_text       10/10 This product is so worth it. Anyone th...\n",
       "review_score                                                    1\n",
       "review_votes                                                    0\n",
       "gameID                                                        640\n",
       "Name: 283121, dtype: object"
      ]
     },
     "execution_count": 117,
     "metadata": {},
     "output_type": "execute_result"
    }
   ],
   "source": [
    "#I grab a random review from the dataframe\n",
    "value = 1234\n",
    "df.iloc[value]"
   ]
  },
  {
   "cell_type": "code",
   "execution_count": 118,
   "id": "16863cd3-0dc9-4d2f-b92b-6a413a85fbe2",
   "metadata": {},
   "outputs": [
    {
     "name": "stdout",
     "output_type": "stream",
     "text": [
      "1/1 [==============================] - 0s 22ms/step\n",
      "Postive\n"
     ]
    }
   ],
   "source": [
    "regex = re.compile(r'[^a-zA-Z\\s]')\n",
    "review = regex.sub('', review)\n",
    "\n",
    "words = review.split(' ')\n",
    "filtered = [w for w in words if w not in english_stops]\n",
    "filtered = ' '.join(filtered)\n",
    "filtered = [filtered.lower()]\n",
    "tokenize_words = token.texts_to_sequences(filtered)\n",
    "tokenize_words = pad_sequences(tokenize_words, maxlen=max_length, padding='post', truncating='post')\n",
    "result = model.predict(tokenize_words)\n",
    "\n",
    "if result >= .50:\n",
    "    print('Postive')\n",
    "else:\n",
    "    print('Negative')"
   ]
  },
  {
   "cell_type": "markdown",
   "id": "02168a0e-25d0-4444-81f2-bda482148c9d",
   "metadata": {},
   "source": [
    "## Conclusion"
   ]
  },
  {
   "cell_type": "markdown",
   "id": "d3e4f55d-03ac-4d67-9cf0-bca7e62941e2",
   "metadata": {},
   "source": [
    "After sampling several games' review text. The RNN LSTM model is able to correctly classify the review text as either Positive or Negative. While the validation accuracy percentage 89.02% is lower than the training accuracy of 94.21%, the model works decent enough for the few validation review scores I inserted to test."
   ]
  },
  {
   "cell_type": "code",
   "execution_count": 2,
   "id": "b6cce279-203e-476d-ab0a-fdb162716d6f",
   "metadata": {},
   "outputs": [],
   "source": [
    "!set PATH=/Library/TeX/texbin:$PATH"
   ]
  },
  {
   "cell_type": "code",
   "execution_count": null,
   "id": "0543d00b-c8dc-493b-aeed-ddc1f402f30c",
   "metadata": {},
   "outputs": [],
   "source": []
  }
 ],
 "metadata": {
  "kernelspec": {
   "display_name": "Python 3 (ipykernel)",
   "language": "python",
   "name": "python3"
  },
  "language_info": {
   "codemirror_mode": {
    "name": "ipython",
    "version": 3
   },
   "file_extension": ".py",
   "mimetype": "text/x-python",
   "name": "python",
   "nbconvert_exporter": "python",
   "pygments_lexer": "ipython3",
   "version": "3.9.18"
  }
 },
 "nbformat": 4,
 "nbformat_minor": 5
}
